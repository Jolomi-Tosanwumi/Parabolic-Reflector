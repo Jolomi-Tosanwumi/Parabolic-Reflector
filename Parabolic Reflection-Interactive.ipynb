{
 "cells": [
  {
   "cell_type": "code",
   "execution_count": 1,
   "id": "5e47f57a",
   "metadata": {},
   "outputs": [],
   "source": [
    "# %matplotlib notebook\n",
    "\n",
    "import numpy as np\n",
    "import matplotlib.pyplot as plt\n",
    "from ipywidgets import interact\n",
    "#from matplotlib import animation"
   ]
  },
  {
   "cell_type": "code",
   "execution_count": 2,
   "id": "e3106b7b",
   "metadata": {},
   "outputs": [],
   "source": [
    "class Parabola():\n",
    "    def __init__(self, a, vertex_x=0, vertex_y=0):\n",
    "        self.a = a  \n",
    "        self.prev = 1\n",
    "        \n",
    "    def get_abscissa(self, y):\n",
    "        return y**2 / (4*self.a)\n",
    "        \n",
    "    def draw_locus(self, x):\n",
    "        return np.append(x[::-1], x), np.append((2 * np.sqrt(self.a * x))[::-1], -2 * np.sqrt(self.a * x))\n",
    "    \n",
    "    def draw_tangent(self, at_point_y):\n",
    "        at_point_x = at_point_y**2 / (4*self.a)\n",
    "        x = np.linspace(at_point_x-1, at_point_x+1, 5)\n",
    "        return x, [(2*self.a/at_point_y) * (i - at_point_x) + at_point_y if at_point_y != 0 else 0 for i in x]\n",
    "    \n",
    "    def draw_normal(self, at_point_y):\n",
    "        at_point_x = at_point_y**2 / (4*self.a)\n",
    "        x = np.linspace(at_point_x-1, at_point_x+1, 5)\n",
    "        return x, (at_point_y / (2*self.a)) * (at_point_x - x) + at_point_y\n",
    "    \n",
    "    def get_reflected_ordinate(self, x, x_incident, y_incident):\n",
    "        if self.a == x_incident:\n",
    "            if self.prev > 0:\n",
    "                self.prev = -1\n",
    "                return x_incident, y_incident\n",
    "            else:\n",
    "                self.prev = 1\n",
    "                return x_incident, -1*y_incident - 1\n",
    "                        \n",
    "        elif x_incident < self.a:\n",
    "            return x, (4*self.a*y_incident * (x_incident - x)) / (4*self.a**2 - y_incident**2) + y_incident\n",
    "        else:\n",
    "            if x == x_incident:\n",
    "                return x, (4*self.a*y_incident * (x_incident - x)) / (4*self.a**2 - y_incident**2) + y_incident\n",
    "            return self.a/2, ((4*self.a*y_incident * (x_incident - self.a/2)) / (4*self.a**2 - y_incident**2) + y_incident)"
   ]
  },
  {
   "cell_type": "code",
   "execution_count": 3,
   "id": "95a77ea0",
   "metadata": {},
   "outputs": [],
   "source": [
    "class ParallelIncidentLight():\n",
    "    def __init__(self, y, reflector):\n",
    "        self.y = y\n",
    "        self.reflector = reflector\n",
    "        self.x_incident = reflector.get_abscissa(y)\n",
    "        self._is_reflected = True\n",
    "    \n",
    "    @property\n",
    "    def is_reflected(self):\n",
    "        return bool(self._is_reflected)\n",
    "    \n",
    "    @is_reflected.setter\n",
    "    def is_reflected(self, value):\n",
    "        \n",
    "        if value == True or value == False:\n",
    "            self._is_reflected = value \n",
    "        elif not isinstance(value, (bool, int, float)):\n",
    "            raise TypeError (f\"Invalid type for value. Expected any of type bool, int, or float but got {str(type(value))[8:-2]}\")\n",
    "        else:\n",
    "            raise ValueError (f\"Invalid value. Expected any of type bool, 1, or 0 but got {value}\")\n",
    "            \n",
    "    def get_ordinate(self, x):\n",
    "        if self.is_reflected:\n",
    "            return self.reflector.get_reflected_ordinate(x, self.x_incident, self.y)\n",
    "        else:\n",
    "            return x, self.y"
   ]
  },
  {
   "cell_type": "code",
   "execution_count": 4,
   "id": "8de03fd1",
   "metadata": {},
   "outputs": [],
   "source": [
    "def update_plot(q = 3, a = 4):\n",
    "    fig = plt.figure(figsize=(5,5))\n",
    "    i_init=20\n",
    "    \n",
    "    par = Parabola(a)\n",
    "\n",
    "    i = ParallelIncidentLight(q, par)\n",
    "    i.is_reflected = 0\n",
    "\n",
    "    plt.plot(*par.draw_locus(np.linspace(0, 10, 100)))\n",
    "    plt.plot(*par.draw_tangent(q), c='k', ls='--', label='tangent')\n",
    "    plt.plot(*par.draw_normal(q), ls='--', c='brown', label='normal')\n",
    "\n",
    "    plt.plot([i_init, i.x_incident], [i.y, i.y], label='incident')\n",
    "    i.is_reflected = 1\n",
    "    \n",
    "    x_incident_coord = list(i.get_ordinate(i.x_incident))\n",
    "    i_init_coord = list(i.get_ordinate(i_init))\n",
    "    plt.plot([x_incident_coord[0], i_init_coord[0]], [x_incident_coord[1], i_init_coord[1]], label='reflected')\n",
    "    \n",
    "    plt.hlines(0, -10, 20, ls='--', color='k')\n",
    "    plt.scatter([a], [0], marker='*', color='r', s=100, label='Focus')\n",
    "    plt.axis('scaled')\n",
    "    plt.xlim(-10, 20)\n",
    "    plt.ylim(-15, 15)\n",
    "    plt.axis('off')\n",
    "    plt.legend()\n",
    "    \n",
    "    plt.show()"
   ]
  },
  {
   "cell_type": "code",
   "execution_count": 5,
   "id": "5c0f933e",
   "metadata": {},
   "outputs": [
    {
     "data": {
      "application/vnd.jupyter.widget-view+json": {
       "model_id": "e5bfaa676e594731a7d794d7cb444f5e",
       "version_major": 2,
       "version_minor": 0
      },
      "text/plain": [
       "interactive(children=(FloatSlider(value=3.0, description='q', max=12.0, min=1.0, step=0.5), IntSlider(value=4,…"
      ]
     },
     "metadata": {},
     "output_type": "display_data"
    },
    {
     "data": {
      "text/plain": [
       "<function __main__.update_plot(q=3, a=4)>"
      ]
     },
     "execution_count": 5,
     "metadata": {},
     "output_type": "execute_result"
    }
   ],
   "source": [
    "interact(update_plot, q=(1, 12, 0.5), a=(2, 10, 1))"
   ]
  }
 ],
 "metadata": {
  "kernelspec": {
   "display_name": "Python 3",
   "language": "python",
   "name": "python3"
  },
  "language_info": {
   "codemirror_mode": {
    "name": "ipython",
    "version": 3
   },
   "file_extension": ".py",
   "mimetype": "text/x-python",
   "name": "python",
   "nbconvert_exporter": "python",
   "pygments_lexer": "ipython3",
   "version": "3.7.7"
  }
 },
 "nbformat": 4,
 "nbformat_minor": 5
}
